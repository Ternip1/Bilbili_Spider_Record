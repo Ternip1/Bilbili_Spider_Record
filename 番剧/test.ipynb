{
 "cells": [
  {
   "cell_type": "code",
   "execution_count": 2,
   "metadata": {
    "collapsed": true
   },
   "outputs": [
    {
     "name": "stdout",
     "output_type": "stream",
     "text": [
      "{\"code\":0,\"data\":{\"has_next\":1,\"list\":[{\"badge\":\"独家\",\"badge_info\":{\"bg_color\":\"#00C0FF\",\"bg_color_night\":\"#0B91BE\",\"text\":\"独家\"},\"badge_type\":1,\"cover\":\"http://i0.hdslb.com/bfs/bangumi/image/7f6b685e9cf6ee7e0bf93d190ce295877f617e73.jpg\",\"index_show\":\"更新至第12话\",\"is_finish\":0,\"link\":\"https://www.bilibili.com/bangumi/play/ss39431\",\"media_id\":28235123,\"order\":\"740.7万追番\",\"order_type\":\"3\",\"season_id\":39431,\"season_type\":1,\"title\":\"JOJO的奇妙冒险 石之海\",\"title_icon\":\"\"},{\"badge\":\"会员专享\",\"badge_info\":{\"bg_color\":\"#FB7299\",\"bg_color_night\":\"#BB5B76\",\"text\":\"会员专享\"},\"badge_type\":0,\"cover\":\"http://i0.hdslb.com/bfs/bangumi/a4c0e0ccc44fe3949a734f546cf5bb07da925bad.png\",\"index_show\":\"全29话\",\"is_finish\":1,\"link\":\"https://www.bilibili.com/bangumi/play/ss25739\",\"media_id\":139252,\"order\":\"732.1万追番\",\"order_type\":\"3\",\"season_id\":25739,\"season_type\":1,\"title\":\"关于我转生变成史莱姆这档事\",\"title_icon\":\"\"},{\"badge\":\"独家\",\"badge_info\":{\"bg_color\":\"#00C0FF\",\"bg_color_night\":\"#0B91BE\",\"text\":\"独家\"},\"badge_type\":1,\"cover\":\"http://i0.hdslb.com/bfs/bangumi/a223b1376633625be1cd214c34d8bf34a1e03770.jpg\",\"index_show\":\"全12话\",\"is_finish\":1,\"link\":\"https://www.bilibili.com/bangumi/play/ss5997\",\"media_id\":5997,\"order\":\"709.3万追番\",\"order_type\":\"3\",\"season_id\":5997,\"season_type\":1,\"title\":\"埃罗芒阿老师\",\"title_icon\":\"\"},{\"badge\":\"独家\",\"badge_info\":{\"bg_color\":\"#00C0FF\",\"bg_color_night\":\"#0B91BE\",\"text\":\"独家\"},\"badge_type\":1,\"cover\":\"http://i0.hdslb.com/bfs/bangumi/a79e331b7443ed5df5a2acd345dc41d598d46ff9.jpg\",\"index_show\":\"全12话\",\"is_finish\":1,\"link\":\"https://www.bilibili.com/bangumi/play/ss6339\",\"media_id\":6339,\"order\":\"703.5万追番\",\"order_type\":\"3\",\"season_id\":6339,\"season_type\":1,\"title\":\"欢迎来到实力至上主义的教室\",\"title_icon\":\"\"},{\"badge\":\"独家\",\"badge_info\":{\"bg_color\":\"#00C0FF\",\"bg_color_night\":\"#0B91BE\",\"text\":\"独家\"},\"badge_type\":1,\"cover\":\"http://i0.hdslb.com/bfs/bangumi/074056b8543ed2ceb53dc13a79da1eafa3fa921a.jpg\",\"index_show\":\"全22话\",\"is_finish\":1,\"link\":\"https://www.bilibili.com/bangumi/play/ss3398\",\"media_id\":3398,\"order\":\"695.8万追番\",\"order_type\":\"3\",\"season_id\":3398,\"season_type\":1,\"title\":\"冰菓\",\"title_icon\":\"\"},{\"badge\":\"独家\",\"badge_info\":{\"bg_color\":\"#00C0FF\",\"bg_color_night\":\"#0B91BE\",\"text\":\"独家\"},\"badge_type\":1,\"cover\":\"http://i0.hdslb.com/bfs/bangumi/image/039c4e0b14e27c7a9e5cce2f20a6efd3c8909401.png\",\"index_show\":\"全13话\",\"is_finish\":1,\"link\":\"https://www.bilibili.com/bangumi/play/ss36198\",\"media_id\":28231840,\"order\":\"675.5万追番\",\"order_type\":\"3\",\"season_id\":36198,\"season_type\":1,\"title\":\"堀与宫村\",\"title_icon\":\"\"},{\"badge\":\"会员专享\",\"badge_info\":{\"bg_color\":\"#FB7299\",\"bg_color_night\":\"#BB5B76\",\"text\":\"会员专享\"},\"badge_type\":0,\"cover\":\"http://i0.hdslb.com/bfs/bangumi/image/3c125e1aad08643e3eff2fb7d45e740c1a052725.png\",\"index_show\":\"全13话\",\"is_finish\":1,\"link\":\"https://www.bilibili.com/bangumi/play/ss29590\",\"media_id\":28224394,\"order\":\"625.8万追番\",\"order_type\":\"3\",\"season_id\":29590,\"season_type\":1,\"title\":\"Re：从零开始的异世界生活 新编集版\",\"title_icon\":\"\"},{\"badge\":\"独家\",\"badge_info\":{\"bg_color\":\"#00C0FF\",\"bg_color_night\":\"#0B91BE\",\"text\":\"独家\"},\"badge_type\":1,\"cover\":\"http://i0.hdslb.com/bfs/bangumi/image/85c6e348a00a54d0b86d538efb186e006a027e21.png\",\"index_show\":\"全25话\",\"is_finish\":1,\"link\":\"https://www.bilibili.com/bangumi/play/ss29325\",\"media_id\":28224095,\"order\":\"624.5万追番\",\"order_type\":\"3\",\"season_id\":29325,\"season_type\":1,\"title\":\"某科学的超电磁炮T\",\"title_icon\":\"\"},{\"badge\":\"独家\",\"badge_info\":{\"bg_color\":\"#00C0FF\",\"bg_color_night\":\"#0B91BE\",\"text\":\"独家\"},\"badge_type\":1,\"cover\":\"http://i0.hdslb.com/bfs/bangumi/b8e72ea69e57e0b7ac85d8b4d366554fd866df1a.jpg\",\"index_show\":\"全13话\",\"is_finish\":1,\"link\":\"https://www.bilibili.com/bangumi/play/ss2576\",\"media_id\":2576,\"order\":\"613.5万追番\",\"order_type\":\"3\",\"season_id\":2576,\"season_type\":1,\"title\":\"OVERLORD\",\"title_icon\":\"\"},{\"badge\":\"会员专享\",\"badge_info\":{\"bg_color\":\"#FB7299\",\"bg_color_night\":\"#BB5B76\",\"text\":\"会员专享\"},\"badge_type\":0,\"cover\":\"http://i0.hdslb.com/bfs/bangumi/image/54d9ca94ca84225934e0108417c2a1cc16be38fb.png\",\"index_show\":\"全12话\",\"is_finish\":1,\"link\":\"https://www.bilibili.com/bangumi/play/ss32781\",\"media_id\":28228119,\"order\":\"611.6万追番\",\"order_type\":\"3\",\"season_id\":32781,\"season_type\":1,\"title\":\"刀剑神域 爱丽丝篇 异界战争 -终章-\",\"title_icon\":\"\"},{\"badge\":\"独家\",\"badge_info\":{\"bg_color\":\"#00C0FF\",\"bg_color_night\":\"#0B91BE\",\"text\":\"独家\"},\"badge_type\":1,\"cover\":\"http://i0.hdslb.com/bfs/bangumi/image/8021d3f6b0df6dbba6d32f76eb9cfe2531e166c4.png\",\"index_show\":\"全12话\",\"is_finish\":1,\"link\":\"https://www.bilibili.com/bangumi/play/ss29358\",\"media_id\":28224137,\"order\":\"608.5万追番\",\"order_type\":\"3\",\"season_id\":29358,\"season_type\":1,\"title\":\"因为太怕痛就全点防御力了\",\"title_icon\":\"\"},{\"badge\":\"独家\",\"badge_info\":{\"bg_color\":\"#00C0FF\",\"bg_color_night\":\"#0B91BE\",\"text\":\"独家\"},\"badge_type\":1,\"cover\":\"http://i0.hdslb.com/bfs/bangumi/image/107eb93eff876dee16da4bf270b31c3e250e49d6.png\",\"index_show\":\"2020-01-10上映\",\"is_finish\":1,\"link\":\"https://www.bilibili.com/bangumi/play/ss31779?theme=movie\",\"media_id\":28226644,\"order\":\"598.1万追剧\",\"order_type\":\"3\",\"season_id\":31779,\"season_type\":2,\"title\":\"紫罗兰永恒花园外传：永远与自动手记人偶\",\"title_icon\":\"\"},{\"badge\":\"独家\",\"badge_info\":{\"bg_color\":\"#00C0FF\",\"bg_color_night\":\"#0B91BE\",\"text\":\"独家\"},\"badge_type\":1,\"cover\":\"http://i0.hdslb.com/bfs/bangumi/image/f0796e37abac25ba2aa9f23120646aaa9a3d5ea7.png\",\"index_show\":\"全24话\",\"is_finish\":1,\"link\":\"https://www.bilibili.com/bangumi/play/ss36167\",\"media_id\":28231809,\"order\":\"594.9万追番\",\"order_type\":\"3\",\"season_id\":36167,\"season_type\":1,\"title\":\"转生成蜘蛛又怎样！\",\"title_icon\":\"\"},{\"badge\":\"独家\",\"badge_info\":{\"bg_color\":\"#00C0FF\",\"bg_color_night\":\"#0B91BE\",\"text\":\"独家\"},\"badge_type\":1,\"cover\":\"http://i0.hdslb.com/bfs/bangumi/14ba6643f22405e2777cca992002cc6411601334.jpg\",\"index_show\":\"全13话\",\"is_finish\":1,\"link\":\"https://www.bilibili.com/bangumi/play/ss3450\",\"media_id\":3450,\"order\":\"575.2万追番\",\"order_type\":\"3\",\"season_id\":3450,\"season_type\":1,\"title\":\"在下坂本，有何贵干？\",\"title_icon\":\"\"},{\"badge\":\"独家\",\"badge_info\":{\"bg_color\":\"#00C0FF\",\"bg_color_night\":\"#0B91BE\",\"text\":\"独家\"},\"badge_type\":1,\"cover\":\"http://i0.hdslb.com/bfs/bangumi/image/6cf43708b779cde84ad285ff4e3a080de98df0af.png\",\"index_show\":\"全1话\",\"is_finish\":1,\"link\":\"https://www.bilibili.com/bangumi/play/ss38627\",\"media_id\":28234316,\"order\":\"566.9万追番\",\"order_type\":\"3\",\"season_id\":38627,\"season_type\":1,\"title\":\"夏目友人帐 唤石者与怪异的访客\",\"title_icon\":\"\"},{\"badge\":\"独家\",\"badge_info\":{\"bg_color\":\"#00C0FF\",\"bg_color_night\":\"#0B91BE\",\"text\":\"独家\"},\"badge_type\":1,\"cover\":\"http://i0.hdslb.com/bfs/bangumi/image/fba0229f1a6eec6ed692b7ae91c634d5cbde0727.png\",\"index_show\":\"更新至第3话\",\"is_finish\":0,\"link\":\"https://www.bilibili.com/bangumi/play/ss41413\",\"media_id\":28237122,\"order\":\"563.8万追番\",\"order_type\":\"3\",\"season_id\":41413,\"season_type\":1,\"title\":\"盾之勇者成名录 第二季\",\"title_icon\":\"\"},{\"badge\":\"\",\"badge_info\":{\"bg_color\":\"#FB7299\",\"bg_color_night\":\"#BB5B76\",\"text\":\"\"},\"badge_type\":0,\"cover\":\"http://i0.hdslb.com/bfs/bangumi/image/cb4dde6d68cf3a826538d84925e123a1148b779d.png\",\"index_show\":\"全12话\",\"is_finish\":1,\"link\":\"https://www.bilibili.com/bangumi/play/ss6312\",\"media_id\":6312,\"order\":\"558.6万追番\",\"order_type\":\"3\",\"season_id\":6312,\"season_type\":1,\"title\":\"徒然喜欢你\",\"title_icon\":\"\"},{\"badge\":\"独家\",\"badge_info\":{\"bg_color\":\"#00C0FF\",\"bg_color_night\":\"#0B91BE\",\"text\":\"独家\"},\"badge_type\":1,\"cover\":\"http://i0.hdslb.com/bfs/bangumi/image/81c9dc929e6071a2d42f1b5a207bbcef4a1aead7.png\",\"index_show\":\"更新至第3话\",\"is_finish\":0,\"link\":\"https://www.bilibili.com/bangumi/play/ss41432\",\"media_id\":28237141,\"order\":\"558万追番\",\"order_type\":\"3\",\"season_id\":41432,\"season_type\":1,\"title\":\"约会大作战 第四季\",\"title_icon\":\"\"},{\"badge\":\"会员专享\",\"badge_info\":{\"bg_color\":\"#FB7299\",\"bg_color_night\":\"#BB5B76\",\"text\":\"会员专享\"},\"badge_type\":0,\"cover\":\"http://i0.hdslb.com/bfs/bangumi/image/82d628408f5472f1440982e880b0b4f0146862ad.png\",\"index_show\":\"全12话\",\"is_finish\":1,\"link\":\"https://www.bilibili.com/bangumi/play/ss32998\",\"media_id\":28228386,\"order\":\"551.6万追番\",\"order_type\":\"3\",\"season_id\":32998,\"season_type\":1,\"title\":\"我的青春恋爱物语果然有问题。完\",\"title_icon\":\"\"},{\"badge\":\"独家\",\"badge_info\":{\"bg_color\":\"#00C0FF\",\"bg_color_night\":\"#0B91BE\",\"text\":\"独家\"},\"badge_type\":1,\"cover\":\"http://i0.hdslb.com/bfs/bangumi/image/dd7a9d0a0bee32b1f43c2656398d8463d12b3069.jpg\",\"index_show\":\"全13话\",\"is_finish\":1,\"link\":\"https://www.bilibili.com/bangumi/play/ss24596\",\"media_id\":102252,\"order\":\"545.6万追番\",\"order_type\":\"3\",\"season_id\":24596,\"season_type\":1,\"title\":\"OVERLORD Ⅲ\",\"title_icon\":\"\"}],\"num\":2,\"size\":20,\"total\":3237},\"message\":\"success\"}\n"
     ]
    }
   ],
   "source": [
    "#追番人数\n",
    "import random\n",
    "import requests\n",
    "import os\n",
    "import pandas as pd\n",
    "import time\n",
    "\n",
    "headers = {\n",
    "    \"User-Agent\": \"Mozilla/5.0 (Windows NT 10.0; Win64; x64) AppleWebKit/537.36 (KHTML, like Gecko) Chrome/100.0.4896.127 Safari/537.36\",\n",
    "    \"cookies\":\"_uuid=34A1529E-99E2-E45B-344B-47D78B5B881738006infoc; b_nut=1645462840; buvid3=D5AF3015-3AE0-F7FA-BCBB-4F1964F9741842110infoc; buvid4=178AD660-EB46-D5D1-69DB-6F0F663E951B42110-022022201-FdTQVU3R1aR1u86ZnN2wLQ==; LIVE_BUVID=AUTO5716456234292189; buvid_fp_plain=undefined; SESSDATA=671f5f47,1661530926,17ace*21; bili_jct=1e69f407a26e5f0a331552835e682a03; DedeUserID=37210060; DedeUserID__ckMd5=73e11faf519c77e9; sid=9b35b5pp; i-wanna-go-back=-1; b_ut=5; buvid_fp=877a0ce25ec0453d3eb99f8a4c1a80b2; blackside_state=1; rpdid=|(u))lJm~lkm0J'uYRlm~mkYk; CURRENT_BLACKGAP=0; nostalgia_conf=-1; CURRENT_QUALITY=116; fingerprint3=7eadfed897109e9c358a02a192666324; fingerprint=554c9663db9fa6e02cd30802a993973c; PVID=2; bsource=search_baidu; bp_video_offset_37210060=651615138022948900; b_lsid=10D6CC119_1804D4787A1; innersign=1; CURRENT_FNVAL=4048\"\n",
    "}\n",
    "i = 1\n",
    "file = \"追番人数rank\"\n",
    "url = \"https://api.bilibili.com/pgc/season/index/result?season_version=-1&spoken_language_type=-1&area=-1&is_finish=-1&copyright=-1&season_status=-1&season_month=-1&year=-1&style_id=-1&order=3&st=1&sort=0&page=\"str(i)\"&season_type=1&pagesize=20&type=1\"\n",
    "for i in range(1,163):\n",
    "    res = requests.get(url,headers=headers)\n",
    "    df = pd.DataFrame(res.json()['data']['list'])\n",
    "    df.to_csv(file,index=False, mode='a',header=not os.path.exists(file), encoding=\"u8\")\n",
    "    i +=1\n",
    "    time.sleep(random.randint(1,8))"
   ]
  },
  {
   "cell_type": "code",
   "execution_count": null,
   "outputs": [],
   "source": [],
   "metadata": {
    "collapsed": false,
    "pycharm": {
     "name": "#%%\n"
    }
   }
  }
 ],
 "metadata": {
  "kernelspec": {
   "display_name": "Python 3",
   "language": "python",
   "name": "python3"
  },
  "language_info": {
   "codemirror_mode": {
    "name": "ipython",
    "version": 2
   },
   "file_extension": ".py",
   "mimetype": "text/x-python",
   "name": "python",
   "nbconvert_exporter": "python",
   "pygments_lexer": "ipython2",
   "version": "2.7.6"
  }
 },
 "nbformat": 4,
 "nbformat_minor": 0
}